{
  "nbformat": 4,
  "nbformat_minor": 0,
  "metadata": {
    "colab": {
      "name": "FOPDTmethodShawnaDaniels.ipynb",
      "provenance": [],
      "include_colab_link": true
    },
    "kernelspec": {
      "name": "python3",
      "display_name": "Python 3"
    },
    "language_info": {
      "name": "python"
    }
  },
  "cells": [
    {
      "cell_type": "markdown",
      "metadata": {
        "id": "view-in-github",
        "colab_type": "text"
      },
      "source": [
        "<a href=\"https://colab.research.google.com/github/bbygsha/Shawna-Daniels-JSURE-2021/blob/Python-Codes-and-Data/FOPDTmethodShawnaDaniels.ipynb\" target=\"_parent\"><img src=\"https://colab.research.google.com/assets/colab-badge.svg\" alt=\"Open In Colab\"/></a>"
      ]
    },
    {
      "cell_type": "markdown",
      "metadata": {
        "id": "96ZBQJvy5VVN"
      },
      "source": [
        "# First Order Plus Dead Time (FOPDT)\n",
        "This approach is using optimal control dynamics. See the link below. \n",
        "https://apmonitor.com/pdc/index.php/Main/FirstOrderSystems\n"
      ]
    },
    {
      "cell_type": "code",
      "metadata": {
        "colab": {
          "base_uri": "https://localhost:8080/",
          "height": 459
        },
        "id": "sFXXMutd4-ih",
        "outputId": "dac7bc5f-dc49-4935-e753-9d0a800763c0"
      },
      "source": [
        "# -*- coding: utf-8 -*-\n",
        "\"\"\"\n",
        "Created on Tue Jun 29 19:49:53 2021\n",
        "\n",
        "@author: Widodo Samyono\n",
        "\"\"\"\n",
        "import numpy as np\n",
        "import pandas as pd\n",
        "import matplotlib.pyplot as plt\n",
        "from scipy.integrate import odeint\n",
        "from scipy.optimize import minimize\n",
        "from scipy.interpolate import interp1d\n",
        "\n",
        "# Import CSV data file\n",
        "# Column 1 = time (t)\n",
        "# Column 2 = input (u)\n",
        "# Column 3 = output (yp)\n",
        "#upload from Google drive\n",
        "from google.colab import drive\n",
        "drive.mount('/content/drive')\n",
        "# url = 'http://apmonitor.com/pdc/uploads/Main/data_fopdt.txt'\n",
        "# data = pd.read_csv(url)\n",
        "#data = pd.read_csv(\"dataskylert20.txt\")\n",
        "#data = pd.read_csv(\"datajordan.txt\")\n",
        "data = pd.read_csv(\"/content/drive/MyDrive/Colab Notebooks/growthcurveMCF7pd.txt\")\n",
        "# print(data)\n",
        "t = data['time'].values - data['time'].values[0]\n",
        "# print(t)\n",
        "u = data['y'].values\n",
        "yp = data['y'].values\n",
        "u0 = yp[0]\n",
        "yp0 = yp[0]\n",
        "\n",
        "# specify number of steps\n",
        "ns = len(t)\n",
        "delta_t = t[1]-t[0]\n",
        "# create linear interpolation of the u data versus time\n",
        "uf = interp1d(t,u)\n",
        "\n",
        "# define first-order plus dead-time approximation    \n",
        "def fopdt(y,t,uf,Km,taum,thetam):\n",
        "    # arguments\n",
        "    #  y      = output\n",
        "    #  t      = time\n",
        "    #  uf     = input linear function (for time shift)\n",
        "    #  Km     = model gain\n",
        "    #  taum   = model time constant\n",
        "    #  thetam = model time constant\n",
        "    # time-shift u\n",
        "    try:\n",
        "        if (t-thetam) <= 0:\n",
        "            um = uf(0.0)\n",
        "        else:\n",
        "            um = uf(t-thetam)\n",
        "    except:\n",
        "        #print('Error with time extrapolation: ' + str(t))\n",
        "        um = u0\n",
        "    # calculate derivative\n",
        "    dydt = (-(y-yp0) + Km * (um-u0))/taum\n",
        "    return dydt\n",
        "\n",
        "# simulate FOPDT model with x=[Km,taum,thetam]\n",
        "def sim_model(x):\n",
        "    # input arguments\n",
        "    Km = x[0]\n",
        "    taum = x[1]\n",
        "    thetam = x[2]\n",
        "    # storage for model values\n",
        "    ym = np.zeros(ns)  # model\n",
        "    # initial condition\n",
        "    ym[0] = yp0\n",
        "    # loop through time steps    \n",
        "    for i in range(0,ns-1):\n",
        "        ts = [t[i],t[i+1]]\n",
        "        y1 = odeint(fopdt,ym[i],ts,args=(uf,Km,taum,thetam))\n",
        "        ym[i+1] = y1[-1]\n",
        "    return ym\n",
        "\n",
        "# define objective\n",
        "def objective(x):\n",
        "    # simulate model\n",
        "    ym = sim_model(x)\n",
        "    # calculate objective\n",
        "    obj = 0.0\n",
        "    for i in range(len(ym)):\n",
        "        obj = obj + (ym[i]-yp[i])**2    \n",
        "    # return result\n",
        "    return obj\n",
        "\n",
        "# initial guesses\n",
        "x0 = np.zeros(3)\n",
        "x0[0] = 1.0      # Km     = 1.0\n",
        "x0[1] = 0.9      # taum   = 0.005, 0.5, 0.9\n",
        "x0[2] = 0.0      # thetam = 0.0\n",
        "#        SSE    9.035281498e-05, 1.271059134e+05, 2.627754202e+05              \n",
        "# show initial objective\n",
        "print('Initial SSE Objective: ' + \"{:.9e}\".format((objective(x0))))\n",
        "print('Kp0: ' + str(x0[0]))\n",
        "print('taup0: ' + str(x0[1]))\n",
        "print('thetap0: ' + str(x0[2]))\n",
        "\n",
        "\n",
        "# optimize Km, taum, thetam\n",
        "# solution = minimize(objective,x0)\n",
        "solution = minimize(objective,x0,method='powell',\n",
        "              options={'xtol': 1e-8, 'maxfev':10000,'disp': True})\n",
        "# Another way to solve: with bounds on variables\n",
        "#bnds = ((0.4, 0.6), (1.0, 10.0), (0.0, 30.0))\n",
        "#solution = minimize(objective,x0,bounds=bnds,method='SLSQP')\n",
        "x = solution.x\n",
        "\n",
        "# show final objective\n",
        "print('Final SSE Objective: ' + \"{:.9e}\".format((objective(x))))\n",
        "\n",
        "print('Kp: ' + str(x[0]))\n",
        "print('taup: ' + str(x[1]))\n",
        "print('thetap: ' + str(x[2]))\n",
        "\n",
        "# calculate model with updated parameters\n",
        "ym1 = sim_model(x0)\n",
        "ym2 = sim_model(x)\n",
        "# plot results\n",
        "plt.figure()\n",
        "plt.subplot(2,1,1)\n",
        "plt.plot(t,yp,'kx-',linewidth=2,label='Process Data')\n",
        "plt.plot(t,ym1,'b-',linewidth=2,label='Initial Guess')\n",
        "plt.plot(t,ym2,'r--',linewidth=3,label='Optimized FOPDT')\n",
        "plt.ylabel('Output')\n",
        "plt.legend(loc='best')\n",
        "plt.subplot(2,1,2)\n",
        "plt.plot(t,u,'bx-',linewidth=2)\n",
        "plt.plot(t,uf(t),'r--',linewidth=3)\n",
        "plt.legend(['Measured','Interpolated'],loc='best')\n",
        "plt.ylabel('Input Data')\n",
        "plt.show()\n"
      ],
      "execution_count": null,
      "outputs": [
        {
          "output_type": "stream",
          "text": [
            "Mounted at /content/drive\n"
          ],
          "name": "stdout"
        },
        {
          "output_type": "error",
          "ename": "FileNotFoundError",
          "evalue": "ignored",
          "traceback": [
            "\u001b[0;31m---------------------------------------------------------------------------\u001b[0m",
            "\u001b[0;31mFileNotFoundError\u001b[0m                         Traceback (most recent call last)",
            "\u001b[0;32m<ipython-input-1-103e2d73b41c>\u001b[0m in \u001b[0;36m<module>\u001b[0;34m()\u001b[0m\n\u001b[1;32m     23\u001b[0m \u001b[0;31m#data = pd.read_csv(\"dataskylert20.txt\")\u001b[0m\u001b[0;34m\u001b[0m\u001b[0;34m\u001b[0m\u001b[0;34m\u001b[0m\u001b[0m\n\u001b[1;32m     24\u001b[0m \u001b[0;31m#data = pd.read_csv(\"datajordan.txt\")\u001b[0m\u001b[0;34m\u001b[0m\u001b[0;34m\u001b[0m\u001b[0;34m\u001b[0m\u001b[0m\n\u001b[0;32m---> 25\u001b[0;31m \u001b[0mdata\u001b[0m \u001b[0;34m=\u001b[0m \u001b[0mpd\u001b[0m\u001b[0;34m.\u001b[0m\u001b[0mread_csv\u001b[0m\u001b[0;34m(\u001b[0m\u001b[0;34m\"/content/drive/MyDrive/Colab Notebooks/growthcurveMCF7pd.txt\"\u001b[0m\u001b[0;34m)\u001b[0m\u001b[0;34m\u001b[0m\u001b[0;34m\u001b[0m\u001b[0m\n\u001b[0m\u001b[1;32m     26\u001b[0m \u001b[0;31m# print(data)\u001b[0m\u001b[0;34m\u001b[0m\u001b[0;34m\u001b[0m\u001b[0;34m\u001b[0m\u001b[0m\n\u001b[1;32m     27\u001b[0m \u001b[0mt\u001b[0m \u001b[0;34m=\u001b[0m \u001b[0mdata\u001b[0m\u001b[0;34m[\u001b[0m\u001b[0;34m'time'\u001b[0m\u001b[0;34m]\u001b[0m\u001b[0;34m.\u001b[0m\u001b[0mvalues\u001b[0m \u001b[0;34m-\u001b[0m \u001b[0mdata\u001b[0m\u001b[0;34m[\u001b[0m\u001b[0;34m'time'\u001b[0m\u001b[0;34m]\u001b[0m\u001b[0;34m.\u001b[0m\u001b[0mvalues\u001b[0m\u001b[0;34m[\u001b[0m\u001b[0;36m0\u001b[0m\u001b[0;34m]\u001b[0m\u001b[0;34m\u001b[0m\u001b[0;34m\u001b[0m\u001b[0m\n",
            "\u001b[0;32m/usr/local/lib/python3.7/dist-packages/pandas/io/parsers.py\u001b[0m in \u001b[0;36mread_csv\u001b[0;34m(filepath_or_buffer, sep, delimiter, header, names, index_col, usecols, squeeze, prefix, mangle_dupe_cols, dtype, engine, converters, true_values, false_values, skipinitialspace, skiprows, skipfooter, nrows, na_values, keep_default_na, na_filter, verbose, skip_blank_lines, parse_dates, infer_datetime_format, keep_date_col, date_parser, dayfirst, cache_dates, iterator, chunksize, compression, thousands, decimal, lineterminator, quotechar, quoting, doublequote, escapechar, comment, encoding, dialect, error_bad_lines, warn_bad_lines, delim_whitespace, low_memory, memory_map, float_precision)\u001b[0m\n\u001b[1;32m    686\u001b[0m     )\n\u001b[1;32m    687\u001b[0m \u001b[0;34m\u001b[0m\u001b[0m\n\u001b[0;32m--> 688\u001b[0;31m     \u001b[0;32mreturn\u001b[0m \u001b[0m_read\u001b[0m\u001b[0;34m(\u001b[0m\u001b[0mfilepath_or_buffer\u001b[0m\u001b[0;34m,\u001b[0m \u001b[0mkwds\u001b[0m\u001b[0;34m)\u001b[0m\u001b[0;34m\u001b[0m\u001b[0;34m\u001b[0m\u001b[0m\n\u001b[0m\u001b[1;32m    689\u001b[0m \u001b[0;34m\u001b[0m\u001b[0m\n\u001b[1;32m    690\u001b[0m \u001b[0;34m\u001b[0m\u001b[0m\n",
            "\u001b[0;32m/usr/local/lib/python3.7/dist-packages/pandas/io/parsers.py\u001b[0m in \u001b[0;36m_read\u001b[0;34m(filepath_or_buffer, kwds)\u001b[0m\n\u001b[1;32m    452\u001b[0m \u001b[0;34m\u001b[0m\u001b[0m\n\u001b[1;32m    453\u001b[0m     \u001b[0;31m# Create the parser.\u001b[0m\u001b[0;34m\u001b[0m\u001b[0;34m\u001b[0m\u001b[0;34m\u001b[0m\u001b[0m\n\u001b[0;32m--> 454\u001b[0;31m     \u001b[0mparser\u001b[0m \u001b[0;34m=\u001b[0m \u001b[0mTextFileReader\u001b[0m\u001b[0;34m(\u001b[0m\u001b[0mfp_or_buf\u001b[0m\u001b[0;34m,\u001b[0m \u001b[0;34m**\u001b[0m\u001b[0mkwds\u001b[0m\u001b[0;34m)\u001b[0m\u001b[0;34m\u001b[0m\u001b[0;34m\u001b[0m\u001b[0m\n\u001b[0m\u001b[1;32m    455\u001b[0m \u001b[0;34m\u001b[0m\u001b[0m\n\u001b[1;32m    456\u001b[0m     \u001b[0;32mif\u001b[0m \u001b[0mchunksize\u001b[0m \u001b[0;32mor\u001b[0m \u001b[0miterator\u001b[0m\u001b[0;34m:\u001b[0m\u001b[0;34m\u001b[0m\u001b[0;34m\u001b[0m\u001b[0m\n",
            "\u001b[0;32m/usr/local/lib/python3.7/dist-packages/pandas/io/parsers.py\u001b[0m in \u001b[0;36m__init__\u001b[0;34m(self, f, engine, **kwds)\u001b[0m\n\u001b[1;32m    946\u001b[0m             \u001b[0mself\u001b[0m\u001b[0;34m.\u001b[0m\u001b[0moptions\u001b[0m\u001b[0;34m[\u001b[0m\u001b[0;34m\"has_index_names\"\u001b[0m\u001b[0;34m]\u001b[0m \u001b[0;34m=\u001b[0m \u001b[0mkwds\u001b[0m\u001b[0;34m[\u001b[0m\u001b[0;34m\"has_index_names\"\u001b[0m\u001b[0;34m]\u001b[0m\u001b[0;34m\u001b[0m\u001b[0;34m\u001b[0m\u001b[0m\n\u001b[1;32m    947\u001b[0m \u001b[0;34m\u001b[0m\u001b[0m\n\u001b[0;32m--> 948\u001b[0;31m         \u001b[0mself\u001b[0m\u001b[0;34m.\u001b[0m\u001b[0m_make_engine\u001b[0m\u001b[0;34m(\u001b[0m\u001b[0mself\u001b[0m\u001b[0;34m.\u001b[0m\u001b[0mengine\u001b[0m\u001b[0;34m)\u001b[0m\u001b[0;34m\u001b[0m\u001b[0;34m\u001b[0m\u001b[0m\n\u001b[0m\u001b[1;32m    949\u001b[0m \u001b[0;34m\u001b[0m\u001b[0m\n\u001b[1;32m    950\u001b[0m     \u001b[0;32mdef\u001b[0m \u001b[0mclose\u001b[0m\u001b[0;34m(\u001b[0m\u001b[0mself\u001b[0m\u001b[0;34m)\u001b[0m\u001b[0;34m:\u001b[0m\u001b[0;34m\u001b[0m\u001b[0;34m\u001b[0m\u001b[0m\n",
            "\u001b[0;32m/usr/local/lib/python3.7/dist-packages/pandas/io/parsers.py\u001b[0m in \u001b[0;36m_make_engine\u001b[0;34m(self, engine)\u001b[0m\n\u001b[1;32m   1178\u001b[0m     \u001b[0;32mdef\u001b[0m \u001b[0m_make_engine\u001b[0m\u001b[0;34m(\u001b[0m\u001b[0mself\u001b[0m\u001b[0;34m,\u001b[0m \u001b[0mengine\u001b[0m\u001b[0;34m=\u001b[0m\u001b[0;34m\"c\"\u001b[0m\u001b[0;34m)\u001b[0m\u001b[0;34m:\u001b[0m\u001b[0;34m\u001b[0m\u001b[0;34m\u001b[0m\u001b[0m\n\u001b[1;32m   1179\u001b[0m         \u001b[0;32mif\u001b[0m \u001b[0mengine\u001b[0m \u001b[0;34m==\u001b[0m \u001b[0;34m\"c\"\u001b[0m\u001b[0;34m:\u001b[0m\u001b[0;34m\u001b[0m\u001b[0;34m\u001b[0m\u001b[0m\n\u001b[0;32m-> 1180\u001b[0;31m             \u001b[0mself\u001b[0m\u001b[0;34m.\u001b[0m\u001b[0m_engine\u001b[0m \u001b[0;34m=\u001b[0m \u001b[0mCParserWrapper\u001b[0m\u001b[0;34m(\u001b[0m\u001b[0mself\u001b[0m\u001b[0;34m.\u001b[0m\u001b[0mf\u001b[0m\u001b[0;34m,\u001b[0m \u001b[0;34m**\u001b[0m\u001b[0mself\u001b[0m\u001b[0;34m.\u001b[0m\u001b[0moptions\u001b[0m\u001b[0;34m)\u001b[0m\u001b[0;34m\u001b[0m\u001b[0;34m\u001b[0m\u001b[0m\n\u001b[0m\u001b[1;32m   1181\u001b[0m         \u001b[0;32melse\u001b[0m\u001b[0;34m:\u001b[0m\u001b[0;34m\u001b[0m\u001b[0;34m\u001b[0m\u001b[0m\n\u001b[1;32m   1182\u001b[0m             \u001b[0;32mif\u001b[0m \u001b[0mengine\u001b[0m \u001b[0;34m==\u001b[0m \u001b[0;34m\"python\"\u001b[0m\u001b[0;34m:\u001b[0m\u001b[0;34m\u001b[0m\u001b[0;34m\u001b[0m\u001b[0m\n",
            "\u001b[0;32m/usr/local/lib/python3.7/dist-packages/pandas/io/parsers.py\u001b[0m in \u001b[0;36m__init__\u001b[0;34m(self, src, **kwds)\u001b[0m\n\u001b[1;32m   2008\u001b[0m         \u001b[0mkwds\u001b[0m\u001b[0;34m[\u001b[0m\u001b[0;34m\"usecols\"\u001b[0m\u001b[0;34m]\u001b[0m \u001b[0;34m=\u001b[0m \u001b[0mself\u001b[0m\u001b[0;34m.\u001b[0m\u001b[0musecols\u001b[0m\u001b[0;34m\u001b[0m\u001b[0;34m\u001b[0m\u001b[0m\n\u001b[1;32m   2009\u001b[0m \u001b[0;34m\u001b[0m\u001b[0m\n\u001b[0;32m-> 2010\u001b[0;31m         \u001b[0mself\u001b[0m\u001b[0;34m.\u001b[0m\u001b[0m_reader\u001b[0m \u001b[0;34m=\u001b[0m \u001b[0mparsers\u001b[0m\u001b[0;34m.\u001b[0m\u001b[0mTextReader\u001b[0m\u001b[0;34m(\u001b[0m\u001b[0msrc\u001b[0m\u001b[0;34m,\u001b[0m \u001b[0;34m**\u001b[0m\u001b[0mkwds\u001b[0m\u001b[0;34m)\u001b[0m\u001b[0;34m\u001b[0m\u001b[0;34m\u001b[0m\u001b[0m\n\u001b[0m\u001b[1;32m   2011\u001b[0m         \u001b[0mself\u001b[0m\u001b[0;34m.\u001b[0m\u001b[0munnamed_cols\u001b[0m \u001b[0;34m=\u001b[0m \u001b[0mself\u001b[0m\u001b[0;34m.\u001b[0m\u001b[0m_reader\u001b[0m\u001b[0;34m.\u001b[0m\u001b[0munnamed_cols\u001b[0m\u001b[0;34m\u001b[0m\u001b[0;34m\u001b[0m\u001b[0m\n\u001b[1;32m   2012\u001b[0m \u001b[0;34m\u001b[0m\u001b[0m\n",
            "\u001b[0;32mpandas/_libs/parsers.pyx\u001b[0m in \u001b[0;36mpandas._libs.parsers.TextReader.__cinit__\u001b[0;34m()\u001b[0m\n",
            "\u001b[0;32mpandas/_libs/parsers.pyx\u001b[0m in \u001b[0;36mpandas._libs.parsers.TextReader._setup_parser_source\u001b[0;34m()\u001b[0m\n",
            "\u001b[0;31mFileNotFoundError\u001b[0m: [Errno 2] No such file or directory: '/content/drive/MyDrive/Colab Notebooks/growthcurveMCF7pd.txt'"
          ]
        }
      ]
    }
  ]
}