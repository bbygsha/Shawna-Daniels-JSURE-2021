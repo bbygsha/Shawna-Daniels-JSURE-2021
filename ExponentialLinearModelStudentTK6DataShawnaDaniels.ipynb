{
  "nbformat": 4,
  "nbformat_minor": 0,
  "metadata": {
    "colab": {
      "name": "ExponentialLinearModelStudentTK6DataShawnaDaniels.ipynb",
      "provenance": [],
      "collapsed_sections": [],
      "include_colab_link": true
    },
    "kernelspec": {
      "name": "python3",
      "display_name": "Python 3"
    },
    "language_info": {
      "name": "python"
    }
  },
  "cells": [
    {
      "cell_type": "markdown",
      "metadata": {
        "id": "view-in-github",
        "colab_type": "text"
      },
      "source": [
        "<a href=\"https://colab.research.google.com/github/bbygsha/Shawna-Daniels-JSURE-2021/blob/Python-Codes-and-Data/ExponentialLinearModelStudentTK6DataShawnaDaniels.ipynb\" target=\"_parent\"><img src=\"https://colab.research.google.com/assets/colab-badge.svg\" alt=\"Open In Colab\"/></a>"
      ]
    },
    {
      "cell_type": "markdown",
      "metadata": {
        "id": "Xuu3wnCinH0A"
      },
      "source": [
        "# **Exponential Linear Model for Student Data**\n",
        "The student learn about and run the code for the Exponential Linier model. The model is ODE (Ordinary Differential Equation) as follow:\n",
        "$$   \\left\\{\n",
        "\\begin{array}{ll}\n",
        "      \\frac{dV}{dt}=a_0V, &  t\\leq \\tau \\\\\n",
        "      \\frac{dV}{dt}=a_1V, &  t > \\tau \\\\\n",
        "       V(t=0)=V_0 &\n",
        "\\end{array} \n",
        "\\right.\n",
        "$$\n",
        ", where \n",
        "$$\n",
        "\\tau = \\frac{1}{a_0} \\log(\\frac{a_1}{a_oV_0}).\n",
        "$$\n",
        "To get the best fit model to the data we optimize the sum of square errors (SSE) between the data and the model, which is the solution of the ODE. We use Powel method to solve the optimization problem.  \n",
        "\n",
        "We use other best fit measuremants, i.e. AIC and BIC, from this website: https://pypi.org/project/RegscorePy/\n",
        "\n",
        "To install the package, you need to do as follows:\n",
        "pip install RegscorePy\n",
        "\n",
        "The usages of AIC and BIC are as follows:\n",
        "aic(y, y_pred, p)\n",
        "bic(y, y_pred, p)\n",
        "where y is the data, y_pred is the model/predicted ouput, and p is the number of parameters (integer).\n",
        "\n",
        "Before running the code the student need to place the data in their local directory in their own computer. Make sure the name of the data is the same as in the line of the code that call the data. When running the code, the student need to locate the data and click it to open in the code and finish the process finding the solution. \n",
        "The student may use the data saved in the Google Drive by hastagging the command lines for uploading the file from the local directory and unhashtagging the command lines for uploading from Google Drive. "
      ]
    },
    {
      "cell_type": "markdown",
      "metadata": {
        "id": "z606fUzHRLVX"
      },
      "source": [
        "# New Section"
      ]
    },
    {
      "cell_type": "code",
      "metadata": {
        "colab": {
          "base_uri": "https://localhost:8080/"
        },
        "id": "XmpJ2BeWB0dk",
        "outputId": "0c070076-4a64-4ed0-d901-c858543e9b07"
      },
      "source": [
        "pip install RegscorePy  # You may not need to run this command line after you did once. "
      ],
      "execution_count": null,
      "outputs": [
        {
          "output_type": "stream",
          "text": [
            "Requirement already satisfied: RegscorePy in /usr/local/lib/python3.7/dist-packages (1.1)\n",
            "Requirement already satisfied: numpy in /usr/local/lib/python3.7/dist-packages (from RegscorePy) (1.19.5)\n",
            "Requirement already satisfied: pandas in /usr/local/lib/python3.7/dist-packages (from RegscorePy) (1.1.5)\n",
            "Requirement already satisfied: pytz>=2017.2 in /usr/local/lib/python3.7/dist-packages (from pandas->RegscorePy) (2018.9)\n",
            "Requirement already satisfied: python-dateutil>=2.7.3 in /usr/local/lib/python3.7/dist-packages (from pandas->RegscorePy) (2.8.1)\n",
            "Requirement already satisfied: six>=1.5 in /usr/local/lib/python3.7/dist-packages (from python-dateutil>=2.7.3->pandas->RegscorePy) (1.15.0)\n"
          ],
          "name": "stdout"
        }
      ]
    },
    {
      "cell_type": "code",
      "metadata": {
        "id": "G6bES_vMCV-j",
        "colab": {
          "base_uri": "https://localhost:8080/",
          "height": 391
        },
        "outputId": "2df4ae6a-02e0-46c2-b998-a5da0a510b93"
      },
      "source": [
        "import numpy as np\n",
        "# from math import log\n",
        "import matplotlib.pyplot as plt\n",
        "from scipy.integrate import odeint\n",
        "from scipy.optimize import minimize\n",
        "from RegscorePy import *\n",
        "from scipy.interpolate import interp1d\n",
        "# upload file from local drive \n",
        "# from google.colab import files\n",
        "# uploaded = files.upload()\n",
        "# for fn in uploaded.keys():\n",
        "#  print('User uploaded file \"{name}\" with length {length} bytes'.format(\n",
        "#      name=fn, length=len(uploaded[fn])))\n",
        "# upload from Google drive\n",
        "from google.colab import drive\n",
        "drive.mount('/content/drive',force_remount=True)\n",
        "# with open('/content/drive/MyDrive/BMblasts.txt', 'r') as f:\n",
        "#  f.write('Hello Google Drive!')\n",
        "#!cat /content/drive/My\\ Drive/foo.txt\n",
        "\n",
        "# Import CSV data file\n",
        "# Column 1 = time (t)\n",
        "# Column 2 = input (u)\n",
        "# Column 3 = output (yp)\n",
        "# data = np.loadtxt('datameagancontroljustindata.txt',delimiter=',')\n",
        "# data = np.loadtxt('dataskyler.txt',delimiter=',')\n",
        "data = np.loadtxt('/content/drive/MyDrive/BMblasts.txt')\n",
        "#data = np.loadtxt('AuNPsTreatmentHounorA.txt', skiprows=1, max_rows=5, dtype={'names': ('Concentration', \n",
        "#                     'Day 0', 'Day 1', 'Day 2', 'Day 3', 'Day 4', 'Day 5'),\n",
        "#                     'formats': ('S1', 'f4' , 'f4', 'f4', 'f4', 'f4', 'f4')})\n",
        "# data = np.loadtxt('LM2-4LUC.txt',skiprows=1)\n",
        "# u0 = data[0,1]\n",
        "# yp0 = data[0,1]\n",
        "# t = data[:,0].T - data[0,0]\n",
        "# ID = data[:,0]\n",
        "# print(ID)\n",
        "# data = data.T\n",
        "# print(\"print data :\\n\", data)\n",
        "t = data[:,0]\n",
        "print(t)\n",
        "# u = data[:,1].T\n",
        "# yp = np.log(data[:,1])\n",
        "yp = data[:,1]\n",
        "# log(data[:,1])\n",
        "print(yp)\n",
        "\n",
        "# specify number of steps\n",
        "ns = len(t)\n",
        "# delta_t = t[1]-t[0]\n",
        "# create linear interpolation of the u data versus time\n",
        "# yp = interp1d(t,yp)\n",
        "\n",
        "# define first-order for the Exponential Linear Model    \n",
        "def fopdt(y,t,x,alpha1,alpha2,alpha3):\n",
        "# def fopdt(y,t,x,alpha1,alpha2,alpha3,gamma,beta):\n",
        "    # arguments\n",
        "    #  y      = output\n",
        "    #  t      = time\n",
        "    #  x      = input linear function (for time shift)\n",
        "    #  alpha1 and alpha2  = coeficient for model gain\n",
        "    #  beta   = model loss or dead/kill\n",
        "    #  \n",
        "    alpha1 = x[0]\n",
        "    alpha2 = x[1]\n",
        "    alpha3 = x[2]\n",
        "#    gamma  = x[3]\n",
        "#    beta = x[4]\n",
        "# \n",
        "#    try:\n",
        "#    tau1 = 1/alpha1*np.log(alpha2/(alpha1*yp[0]))\n",
        "#    tau2 = 1/alpha2*np.log(alpha3/(alpha2*yp[0]))\n",
        "\n",
        "    if t <= 1.0:   # tau1:\n",
        "             dydt = alpha1*y\n",
        "    else: \n",
        "        if t <= 3.0:  #tau2:\n",
        "#            alpha2 = x[1]\n",
        "             dydt = alpha2*y \n",
        "        else:\n",
        "#                Km3 = x[2]\n",
        "             dydt = alpha3*y\n",
        "#  except:\n",
        "    #    print('Error with time extrapolation: ' + str(t))\n",
        "    #    um = 0\n",
        "    # calculate derivative\n",
        "    #    dydt = Km*y                # (-(y-yp0))*Km # + Km * (um-u0))/taum\n",
        "    return dydt\n",
        "\n",
        "# simulate FOPDT model with x=[Km,taum,thetam]\n",
        "def sim_model(x):\n",
        "    # input arguments\n",
        "    alpha1 = x[0]\n",
        "    alpha2 = x[1]\n",
        "    alpha3 = x[2]\n",
        "#    gamma = x[3]  \n",
        "#    beta = x[4]\n",
        "    # thetam = x[2]\n",
        "    # storage for model values\n",
        "    ym = np.zeros(ns)  # model\n",
        "    # initial condition\n",
        "#    ym[0] = 930000\n",
        "    ym[0] = yp[0]\n",
        "\n",
        "    # loop through time steps    \n",
        "    for i in range(0,ns-1):\n",
        "        ts = [t[i],t[i+1]]\n",
        "  #              y1 = odeint(fopdt,ym[i],ts,args=(uf,Km,taum,thetam))\n",
        "        y1 = odeint(fopdt,ym[i],ts,args=(x,alpha1,alpha2,alpha3))\n",
        "#        y1 = odeint(fopdt,ym[i],ts,args=(x,alpha1,alpha2,alpha3,gamma,beta))\n",
        "        ym[i+1] = y1[-1]\n",
        "    return ym\n",
        "\n",
        "# define objective\n",
        "def objective(x):\n",
        "    # simulate model\n",
        "    ym = sim_model(x)\n",
        "    # calculate objective\n",
        "    obj = 0.0\n",
        "    for i in range(len(ym)):\n",
        "        obj = obj + (ym[i]-yp[i])**2    \n",
        "    # return result\n",
        "    return obj\n",
        "\n",
        "# initial guesses\n",
        "x0 = np.zeros(3) #                          \n",
        "x0[0] = -0.4            # alpha1 = 30.0\n",
        "x0[1] = 0.7             # alpha2 =               \n",
        "x0[2] = -1.1             # alpha3 =               \n",
        "# x0[3] = 0.09            #  0.19 # alpha3 = NA             NA                 \n",
        "# x0[4] = 10.0            # 1.11 # beta \n",
        "# x0[2] = 0.5 #beta = -0.5             1.0                \n",
        "#       SSE    3.112692145853754e-07  1.0600646072056463e-07 \n",
        "# show initial objective\n",
        "print('Initial SSE Objective: ' + \"{:.9e}\".format((objective(x0))))\n",
        "# print('alpha01: ' + str(x0[0]),', alpha01: ' + str(x0[1]))\n",
        "print('alpha01: ' + str(x0[0]))\n",
        "print('alpha02: ' + str(x0[1]))\n",
        "print('alpha03: ' + str(x0[2]))\n",
        "# print('gamma0 : ' + str(x0[3]))\n",
        "# print('beta0  : ' + str(x0[4]))\n",
        "# optimize Km, taum, thetam\n",
        "# ym1 = sim_model(x0)\n",
        "# ym2 = sim_model(x)\n",
        "# plt.plot(t,yp,'ok',linewidth=2,label='Experiment Control Data')\n",
        "# plt.plot(t,ym1,'b-',linewidth=2,label='Initial Guess')\n",
        "# plt.plot(t,ym2,'r--',linewidth=3,label='Optimized Model')\n",
        "\n",
        "# plt.xlabel('Days')\n",
        "# plt.ylabel('Number of Cells')\n",
        "# plt.title('Best Fit Model with Control Data - Bellatanffy')\n",
        "# plt.legend(loc='best')\n",
        "# plt.plot(t,ym1,'b-',linewidth=2,label='Initial Guess')\n",
        "# plt.show()\n",
        "\n",
        "# solution = minimize(objective,x0,options={'xtol': 1e-8, 'maxfev':10000,'disp': True})\n",
        "#solution = minimize(objective,x0,method='nelder-mead',\n",
        "#               options={'xatol': 1e-8, 'maxfev':500000,'disp': True})\n",
        "solution = minimize(objective,x0,method='powell',\n",
        "              options={'xtol': 1e-8, 'maxfev':10000,'disp': True})\n",
        "\n",
        "# Another way to solve: with bounds on variables\n",
        "#bnds = ((0.4, 0.6), (1.0, 10.0), (0.0, 30.0))\n",
        "#solution = minimize(objective,x0,bounds=bnds,method='SLSQP')\n",
        "x = solution.x\n",
        "\n",
        "# show final objective\n",
        "print('Final SSE Objective: ' + \"{:.9e}\".format((objective(x))))\n",
        "print('apha1 : ' + str(x[0]))\n",
        "print('apha2 : ' + str(x[1]))\n",
        "print('apha3 : ' + str(x[2]))\n",
        "# print('gamma : ' + str(x[3]))\n",
        "# print('beta  : ' + str(x[4]))\n",
        "\n",
        "# print('taup: ' + str(x[1]))\n",
        "# print('thetap: ' + str(x[2]))\n",
        "\n",
        "# calculate model with updated parameters\n",
        "ym1 = sim_model(x0)\n",
        "ym2 = sim_model(x)\n",
        "\n",
        "p = 3  # number of parameters\n",
        "print(\" AIC : \" + str(aic.aic(yp, ym2, p)))\n",
        "print(\" BIC : \" + str(bic.bic(yp, ym2, p)))\n",
        "print(' SSE : ' + \"{:.9e}\".format((objective(x))))\n",
        "# print(\"AIC =\",aicnum)\n",
        "# plot results\n",
        "# plt.figure(1)\n",
        "# plt.subplot(2,1,1)\n",
        "#plt.plot(t,np.log(yp),'ok',linewidth=2,label='Experiment Control Data')\n",
        "#plt.plot(t,np.log(ym1),'b-',linewidth=2,label='Initial Guess')\n",
        "#plt.plot(t,np.log(ym2),'r--',linewidth=3,label='Optimized Model')\n",
        "plt.plot(t,yp,'ok-',linewidth=2,label='Experiment Control Data')\n",
        "plt.plot(t,ym1,'b-',linewidth=2,label='Initial Guess')\n",
        "plt.plot(t,ym2,'r--',linewidth=3,label='Optimized Model')\n",
        "\n",
        "plt.xlabel('Days')\n",
        "plt.ylabel('Number of Cells')\n",
        "plt.title('Best Fit Model with Control Data - Exponential-linear Model')\n",
        "plt.legend(loc='best')\n",
        "#plt.subplot(2,1,2)\n",
        "#plt.plot(t,x[0],'bx-',linewidth=2)\n",
        "#plt.plot(t,x[1],'r--',linewidth=3)\n",
        "# plt.legend(['Measured','Interpolated'],loc='best')\n",
        "# plt.ylabel('Input Data')\n",
        "data = np.vstack((t,yp,ym2,)) # vertical stack\n",
        "data = data.T              # transpose data\n",
        "np.savetxt('outputdatamd6control.txt',data,delimiter=',')\n",
        "plt.savefig('outputmodel62Kmbeta.png',dpi=300, bbox_inches='tight')\n",
        "plt.show()"
      ],
      "execution_count": null,
      "outputs": [
        {
          "output_type": "stream",
          "text": [
            "Mounted at /content/drive\n"
          ],
          "name": "stdout"
        },
        {
          "output_type": "error",
          "ename": "ValueError",
          "evalue": "ignored",
          "traceback": [
            "\u001b[0;31m---------------------------------------------------------------------------\u001b[0m",
            "\u001b[0;31mValueError\u001b[0m                                Traceback (most recent call last)",
            "\u001b[0;32m<ipython-input-5-b5b96a34e6a5>\u001b[0m in \u001b[0;36m<module>\u001b[0;34m()\u001b[0m\n\u001b[1;32m     25\u001b[0m \u001b[0;31m# data = np.loadtxt('datameagancontroljustindata.txt',delimiter=',')\u001b[0m\u001b[0;34m\u001b[0m\u001b[0;34m\u001b[0m\u001b[0;34m\u001b[0m\u001b[0m\n\u001b[1;32m     26\u001b[0m \u001b[0;31m# data = np.loadtxt('dataskyler.txt',delimiter=',')\u001b[0m\u001b[0;34m\u001b[0m\u001b[0;34m\u001b[0m\u001b[0;34m\u001b[0m\u001b[0m\n\u001b[0;32m---> 27\u001b[0;31m \u001b[0mdata\u001b[0m \u001b[0;34m=\u001b[0m \u001b[0mnp\u001b[0m\u001b[0;34m.\u001b[0m\u001b[0mloadtxt\u001b[0m\u001b[0;34m(\u001b[0m\u001b[0;34m'/content/drive/MyDrive/BMblasts.txt'\u001b[0m\u001b[0;34m)\u001b[0m\u001b[0;34m\u001b[0m\u001b[0;34m\u001b[0m\u001b[0m\n\u001b[0m\u001b[1;32m     28\u001b[0m \u001b[0;31m#data = np.loadtxt('AuNPsTreatmentHounorA.txt', skiprows=1, max_rows=5, dtype={'names': ('Concentration',\u001b[0m\u001b[0;34m\u001b[0m\u001b[0;34m\u001b[0m\u001b[0;34m\u001b[0m\u001b[0m\n\u001b[1;32m     29\u001b[0m \u001b[0;31m#                     'Day 0', 'Day 1', 'Day 2', 'Day 3', 'Day 4', 'Day 5'),\u001b[0m\u001b[0;34m\u001b[0m\u001b[0;34m\u001b[0m\u001b[0;34m\u001b[0m\u001b[0m\n",
            "\u001b[0;32m/usr/local/lib/python3.7/dist-packages/numpy/lib/npyio.py\u001b[0m in \u001b[0;36mloadtxt\u001b[0;34m(fname, dtype, comments, delimiter, converters, skiprows, usecols, unpack, ndmin, encoding, max_rows)\u001b[0m\n\u001b[1;32m   1137\u001b[0m         \u001b[0;31m# converting the data\u001b[0m\u001b[0;34m\u001b[0m\u001b[0;34m\u001b[0m\u001b[0;34m\u001b[0m\u001b[0m\n\u001b[1;32m   1138\u001b[0m         \u001b[0mX\u001b[0m \u001b[0;34m=\u001b[0m \u001b[0;32mNone\u001b[0m\u001b[0;34m\u001b[0m\u001b[0;34m\u001b[0m\u001b[0m\n\u001b[0;32m-> 1139\u001b[0;31m         \u001b[0;32mfor\u001b[0m \u001b[0mx\u001b[0m \u001b[0;32min\u001b[0m \u001b[0mread_data\u001b[0m\u001b[0;34m(\u001b[0m\u001b[0m_loadtxt_chunksize\u001b[0m\u001b[0;34m)\u001b[0m\u001b[0;34m:\u001b[0m\u001b[0;34m\u001b[0m\u001b[0;34m\u001b[0m\u001b[0m\n\u001b[0m\u001b[1;32m   1140\u001b[0m             \u001b[0;32mif\u001b[0m \u001b[0mX\u001b[0m \u001b[0;32mis\u001b[0m \u001b[0;32mNone\u001b[0m\u001b[0;34m:\u001b[0m\u001b[0;34m\u001b[0m\u001b[0;34m\u001b[0m\u001b[0m\n\u001b[1;32m   1141\u001b[0m                 \u001b[0mX\u001b[0m \u001b[0;34m=\u001b[0m \u001b[0mnp\u001b[0m\u001b[0;34m.\u001b[0m\u001b[0marray\u001b[0m\u001b[0;34m(\u001b[0m\u001b[0mx\u001b[0m\u001b[0;34m,\u001b[0m \u001b[0mdtype\u001b[0m\u001b[0;34m)\u001b[0m\u001b[0;34m\u001b[0m\u001b[0;34m\u001b[0m\u001b[0m\n",
            "\u001b[0;32m/usr/local/lib/python3.7/dist-packages/numpy/lib/npyio.py\u001b[0m in \u001b[0;36mread_data\u001b[0;34m(chunk_size)\u001b[0m\n\u001b[1;32m   1065\u001b[0m \u001b[0;34m\u001b[0m\u001b[0m\n\u001b[1;32m   1066\u001b[0m             \u001b[0;31m# Convert each value according to its column and store\u001b[0m\u001b[0;34m\u001b[0m\u001b[0;34m\u001b[0m\u001b[0;34m\u001b[0m\u001b[0m\n\u001b[0;32m-> 1067\u001b[0;31m             \u001b[0mitems\u001b[0m \u001b[0;34m=\u001b[0m \u001b[0;34m[\u001b[0m\u001b[0mconv\u001b[0m\u001b[0;34m(\u001b[0m\u001b[0mval\u001b[0m\u001b[0;34m)\u001b[0m \u001b[0;32mfor\u001b[0m \u001b[0;34m(\u001b[0m\u001b[0mconv\u001b[0m\u001b[0;34m,\u001b[0m \u001b[0mval\u001b[0m\u001b[0;34m)\u001b[0m \u001b[0;32min\u001b[0m \u001b[0mzip\u001b[0m\u001b[0;34m(\u001b[0m\u001b[0mconverters\u001b[0m\u001b[0;34m,\u001b[0m \u001b[0mvals\u001b[0m\u001b[0;34m)\u001b[0m\u001b[0;34m]\u001b[0m\u001b[0;34m\u001b[0m\u001b[0;34m\u001b[0m\u001b[0m\n\u001b[0m\u001b[1;32m   1068\u001b[0m \u001b[0;34m\u001b[0m\u001b[0m\n\u001b[1;32m   1069\u001b[0m             \u001b[0;31m# Then pack it according to the dtype's nesting\u001b[0m\u001b[0;34m\u001b[0m\u001b[0;34m\u001b[0m\u001b[0;34m\u001b[0m\u001b[0m\n",
            "\u001b[0;32m/usr/local/lib/python3.7/dist-packages/numpy/lib/npyio.py\u001b[0m in \u001b[0;36m<listcomp>\u001b[0;34m(.0)\u001b[0m\n\u001b[1;32m   1065\u001b[0m \u001b[0;34m\u001b[0m\u001b[0m\n\u001b[1;32m   1066\u001b[0m             \u001b[0;31m# Convert each value according to its column and store\u001b[0m\u001b[0;34m\u001b[0m\u001b[0;34m\u001b[0m\u001b[0;34m\u001b[0m\u001b[0m\n\u001b[0;32m-> 1067\u001b[0;31m             \u001b[0mitems\u001b[0m \u001b[0;34m=\u001b[0m \u001b[0;34m[\u001b[0m\u001b[0mconv\u001b[0m\u001b[0;34m(\u001b[0m\u001b[0mval\u001b[0m\u001b[0;34m)\u001b[0m \u001b[0;32mfor\u001b[0m \u001b[0;34m(\u001b[0m\u001b[0mconv\u001b[0m\u001b[0;34m,\u001b[0m \u001b[0mval\u001b[0m\u001b[0;34m)\u001b[0m \u001b[0;32min\u001b[0m \u001b[0mzip\u001b[0m\u001b[0;34m(\u001b[0m\u001b[0mconverters\u001b[0m\u001b[0;34m,\u001b[0m \u001b[0mvals\u001b[0m\u001b[0;34m)\u001b[0m\u001b[0;34m]\u001b[0m\u001b[0;34m\u001b[0m\u001b[0;34m\u001b[0m\u001b[0m\n\u001b[0m\u001b[1;32m   1068\u001b[0m \u001b[0;34m\u001b[0m\u001b[0m\n\u001b[1;32m   1069\u001b[0m             \u001b[0;31m# Then pack it according to the dtype's nesting\u001b[0m\u001b[0;34m\u001b[0m\u001b[0;34m\u001b[0m\u001b[0;34m\u001b[0m\u001b[0m\n",
            "\u001b[0;32m/usr/local/lib/python3.7/dist-packages/numpy/lib/npyio.py\u001b[0m in \u001b[0;36mfloatconv\u001b[0;34m(x)\u001b[0m\n\u001b[1;32m    761\u001b[0m         \u001b[0;32mif\u001b[0m \u001b[0;34m'0x'\u001b[0m \u001b[0;32min\u001b[0m \u001b[0mx\u001b[0m\u001b[0;34m:\u001b[0m\u001b[0;34m\u001b[0m\u001b[0;34m\u001b[0m\u001b[0m\n\u001b[1;32m    762\u001b[0m             \u001b[0;32mreturn\u001b[0m \u001b[0mfloat\u001b[0m\u001b[0;34m.\u001b[0m\u001b[0mfromhex\u001b[0m\u001b[0;34m(\u001b[0m\u001b[0mx\u001b[0m\u001b[0;34m)\u001b[0m\u001b[0;34m\u001b[0m\u001b[0;34m\u001b[0m\u001b[0m\n\u001b[0;32m--> 763\u001b[0;31m         \u001b[0;32mreturn\u001b[0m \u001b[0mfloat\u001b[0m\u001b[0;34m(\u001b[0m\u001b[0mx\u001b[0m\u001b[0;34m)\u001b[0m\u001b[0;34m\u001b[0m\u001b[0;34m\u001b[0m\u001b[0m\n\u001b[0m\u001b[1;32m    764\u001b[0m \u001b[0;34m\u001b[0m\u001b[0m\n\u001b[1;32m    765\u001b[0m     \u001b[0mtyp\u001b[0m \u001b[0;34m=\u001b[0m \u001b[0mdtype\u001b[0m\u001b[0;34m.\u001b[0m\u001b[0mtype\u001b[0m\u001b[0;34m\u001b[0m\u001b[0;34m\u001b[0m\u001b[0m\n",
            "\u001b[0;31mValueError\u001b[0m: could not convert string to float: '\\ufeff0'"
          ]
        }
      ]
    },
    {
      "cell_type": "markdown",
      "metadata": {
        "id": "aYqaH2FEitML"
      },
      "source": [
        ""
      ]
    },
    {
      "cell_type": "code",
      "metadata": {
        "id": "JwM3LGZaQh3Z"
      },
      "source": [
        "from google.colab import drive\n",
        "drive.mount('/content/drive')"
      ],
      "execution_count": null,
      "outputs": []
    }
  ]
}